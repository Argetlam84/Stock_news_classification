{
 "cells": [
  {
   "cell_type": "code",
   "execution_count": 1,
   "metadata": {},
   "outputs": [],
   "source": [
    "import pandas as pd\n",
    "import os\n",
    "import datetime as dt\n",
    "import glob"
   ]
  },
  {
   "cell_type": "code",
   "execution_count": null,
   "metadata": {},
   "outputs": [],
   "source": [
    "today_date = dt.datetime.today().strftime(\"%Y-%m-%d\")\n",
    "\n",
    "main_file = \"datasets/clustered.csv\"\n",
    "\n",
    "new_file = f\"datasets/clustered_{today_date}.csv\"\n",
    "\n",
    "if not os.path.exists(main_file):\n",
    "    pd.read_csv(new_file).to_csv(main_file, index=False)\n",
    "else:\n",
    "    main_df = pd.read_csv(main_file)\n",
    "    new_df = pd.read_csv(new_file)\n",
    "    combined_df = pd.concat([main_df, new_df], ignore_index=True)\n",
    "    combined_df.to_csv(main_file, index=False)"
   ]
  },
  {
   "cell_type": "code",
   "execution_count": 3,
   "metadata": {},
   "outputs": [
    {
     "name": "stdout",
     "output_type": "stream",
     "text": [
      "datasets\\clustered_2024-11-08.csv removed\n",
      "datasets\\clustered_news.csv removed\n"
     ]
    }
   ],
   "source": [
    "files_to_delete = glob.glob(\"datasets/clustered_*.csv\")\n",
    "\n",
    "files_to_delete = [f for f in files_to_delete if f !=main_file]\n",
    "\n",
    "for file_path in files_to_delete:\n",
    "    os.remove(file_path)\n",
    "    print(f\"{file_path} removed\")"
   ]
  },
  {
   "cell_type": "code",
   "execution_count": 4,
   "metadata": {},
   "outputs": [
    {
     "name": "stdout",
     "output_type": "stream",
     "text": [
      "datasets\\stock_market_news_2024-11-08.csv removed\n"
     ]
    }
   ],
   "source": [
    "files_to_delete = glob.glob(\"datasets/stock_market_news_*.csv\")\n",
    "\n",
    "files_to_delete = [f for f in files_to_delete if f !=main_file]\n",
    "\n",
    "for file_path in files_to_delete:\n",
    "    os.remove(file_path)\n",
    "    print(f\"{file_path} removed\")"
   ]
  }
 ],
 "metadata": {
  "kernelspec": {
   "display_name": "nlpenv",
   "language": "python",
   "name": "python3"
  },
  "language_info": {
   "codemirror_mode": {
    "name": "ipython",
    "version": 3
   },
   "file_extension": ".py",
   "mimetype": "text/x-python",
   "name": "python",
   "nbconvert_exporter": "python",
   "pygments_lexer": "ipython3",
   "version": "3.12.3"
  }
 },
 "nbformat": 4,
 "nbformat_minor": 2
}
